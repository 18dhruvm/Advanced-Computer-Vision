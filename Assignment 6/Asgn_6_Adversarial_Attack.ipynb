{
  "nbformat": 4,
  "nbformat_minor": 0,
  "metadata": {
    "colab": {
      "provenance": [],
      "gpuType": "T4"
    },
    "kernelspec": {
      "name": "python3",
      "display_name": "Python 3"
    },
    "language_info": {
      "name": "python"
    },
    "accelerator": "GPU"
  },
  "cells": [
    {
      "cell_type": "code",
      "execution_count": 1,
      "metadata": {
        "id": "cMi4o3Sw5awj"
      },
      "outputs": [],
      "source": [
        "import torch\n",
        "import torch.nn as nn\n",
        "import torch.optim as optim\n",
        "import torch.nn.functional as F\n",
        "from torchvision import datasets, transforms\n",
        "from torch.utils.data import DataLoader\n",
        "import numpy as np\n",
        "import matplotlib.pyplot as plt\n",
        "from tarfile import open\n",
        "import random"
      ]
    },
    {
      "cell_type": "code",
      "source": [
        "# prompt: import drive\n",
        "\n",
        "from google.colab import drive\n",
        "drive.mount('/content/drive')\n"
      ],
      "metadata": {
        "colab": {
          "base_uri": "https://localhost:8080/"
        },
        "id": "RANcq2vY6mym",
        "outputId": "5155c291-1e2d-48a1-d431-509137be09c5"
      },
      "execution_count": 2,
      "outputs": [
        {
          "output_type": "stream",
          "name": "stdout",
          "text": [
            "Mounted at /content/drive\n"
          ]
        }
      ]
    },
    {
      "cell_type": "code",
      "source": [
        "#@title Dataset preprocessing\n",
        "tar = open(\"/content/drive/MyDrive/CINIC-10.tar.gz\", \"r:gz\")\n",
        "tar.extractall()\n",
        "tar.close()\n",
        "\n",
        "class CINIC10Dataset:\n",
        "    def __init__(self, batch_size=64, root='.'):\n",
        "        self.transform = transforms.Compose([transforms.ToTensor()])\n",
        "\n",
        "        temp_dataset = datasets.ImageFolder(root=f'{root}/train', transform=self.transform)\n",
        "        temp_loader = DataLoader(temp_dataset, batch_size=batch_size, shuffle=False, num_workers=2)\n",
        "\n",
        "        # Calculate mean,std\n",
        "        mean, std = self.calculate_mean_std(temp_loader)\n",
        "\n",
        "        self.transform = transforms.Compose([\n",
        "            transforms.ToTensor(),\n",
        "            transforms.Normalize(mean, std)\n",
        "        ])\n",
        "\n",
        "        self.batch_size = batch_size\n",
        "\n",
        "        # Load data\n",
        "        self.train_dataset = datasets.ImageFolder(root=f'{root}/train', transform=self.transform)\n",
        "        self.train_dataoader = DataLoader(self.train_dataset, batch_size=batch_size, shuffle=True, num_workers=2)\n",
        "\n",
        "        self.valid_dataset = datasets.ImageFolder(root=f'{root}/valid', transform=self.transform)\n",
        "        self.valid_dataoader = DataLoader(self.valid_dataset, batch_size=batch_size, shuffle=False, num_workers=2)\n",
        "\n",
        "        self.test_dataset = datasets.ImageFolder(root=f'{root}/test', transform=self.transform)\n",
        "        self.test_dataoader = DataLoader(self.test_dataset, batch_size=batch_size, shuffle=False, num_workers=2)\n",
        "\n",
        "    def calculate_mean_std(self, loader):\n",
        "        mean = 0.0\n",
        "        std = 0.0\n",
        "        total_images_count = 0\n",
        "\n",
        "        for images, _ in loader:\n",
        "            batch_samples = images.size(0)\n",
        "            images = images.view(batch_samples, images.size(1), -1)\n",
        "            mean += images.mean(2).sum(0)\n",
        "            std += images.std(2).sum(0)\n",
        "            total_images_count += batch_samples\n",
        "\n",
        "        mean /= total_images_count\n",
        "        std /= total_images_count\n",
        "\n",
        "        return mean, std\n",
        "\n",
        "    def get_train_loader(self):\n",
        "        return self.train_dataoader\n",
        "\n",
        "    def get_valid_loader(self):\n",
        "        return self.valid_dataoader\n",
        "\n",
        "    def get_test_loader(self):\n",
        "        return self.test_dataoader\n",
        "\n",
        "\n",
        "root_path = '/content/'\n",
        "dataset = CINIC10Dataset(batch_size=128, root=root_path)"
      ],
      "metadata": {
        "id": "Gts9TQoH57Nq"
      },
      "execution_count": 3,
      "outputs": []
    },
    {
      "cell_type": "code",
      "source": [
        "#@title Training and evaluation functions\n",
        "def train(model, train_loader, criterion, optimizer, device):\n",
        "    model.train()\n",
        "    running_loss = 0\n",
        "    for batch_idx, (data, target) in enumerate(train_loader):\n",
        "        data, target = data.to(device), target.to(device)\n",
        "        optimizer.zero_grad()\n",
        "        output = model(data)\n",
        "        loss = criterion(output, target)\n",
        "        loss.backward()\n",
        "        optimizer.step()\n",
        "        running_loss += loss.item()\n",
        "    return running_loss / len(train_loader)\n",
        "\n",
        "def validate(model, val_loader, criterion, device):\n",
        "    model.eval()\n",
        "    val_loss = 0\n",
        "    correct = 0\n",
        "    total = 0\n",
        "    with torch.no_grad():\n",
        "        for data, target in val_loader:\n",
        "            data, target = data.to(device), target.to(device)\n",
        "            output = model(data)\n",
        "            val_loss += criterion(output, target).item()\n",
        "            _, predicted = torch.max(output.data, 1)\n",
        "            total += target.size(0)\n",
        "            correct += (predicted == target).sum().item()\n",
        "    accuracy = 100 * correct / total\n",
        "    return val_loss / len(val_loader), accuracy\n",
        "\n",
        "def plot_metrics_train(train_losses, model_name):\n",
        "    epochs = range(1, len(train_losses) + 1)\n",
        "    plt.figure(figsize=(12,5))\n",
        "    plt.subplot(1, 2, 1)\n",
        "    plt.plot(epochs, train_losses, label='Training Loss')\n",
        "    plt.title(f'{model_name} Training Loss')\n",
        "    plt.xlabel('Epochs')\n",
        "    plt.ylabel('Loss')\n",
        "    plt.legend()\n",
        "\n",
        "    plt.show()\n",
        "\n",
        "def plot_metrics_validation(train_losses, val_accuracies, model_name):\n",
        "    epochs = range(1, len(train_losses) + 1)\n",
        "    plt.figure(figsize=(12,5))\n",
        "    plt.subplot(1, 2, 2)\n",
        "    plt.plot(epochs, val_accuracies, label='Validation Accuracy')\n",
        "    plt.title(f'{model_name} Validation Accuracy')\n",
        "    plt.xlabel('Epochs')\n",
        "    plt.ylabel('Accuracy')\n",
        "    plt.legend()\n",
        "\n",
        "    plt.show()"
      ],
      "metadata": {
        "id": "MWsuac_i9uZ2"
      },
      "execution_count": 4,
      "outputs": []
    },
    {
      "cell_type": "code",
      "source": [
        "#@title ResNet9 Adam\n",
        "\n",
        "class ResidualBlock(nn.Module):\n",
        "    def __init__(self, in_channels, out_channels, stride=1):\n",
        "        super(ResidualBlock, self).__init__()\n",
        "        # Convolution layers with stride=1 and padding=1\n",
        "        self.conv1 = nn.Conv2d(in_channels, out_channels, kernel_size=3, stride=1, padding=1)\n",
        "        self.bn1 = nn.BatchNorm2d(out_channels)\n",
        "        self.conv2 = nn.Conv2d(out_channels, out_channels, kernel_size=3, stride=1, padding=1)\n",
        "        self.bn2 = nn.BatchNorm2d(out_channels)\n",
        "\n",
        "        # Skip connection with stride=2\n",
        "        self.skip = nn.Sequential()\n",
        "        if in_channels != out_channels or stride != 1:\n",
        "            self.skip = nn.Sequential(\n",
        "                nn.Conv2d(in_channels, out_channels, kernel_size=1, stride=2),\n",
        "                nn.BatchNorm2d(out_channels)\n",
        "            )\n",
        "\n",
        "        # MaxPool layer\n",
        "        self.pool = nn.MaxPool2d(kernel_size=2, stride=2)\n",
        "\n",
        "    def forward(self, x):\n",
        "        out = F.relu(self.bn1(self.conv1(x)))\n",
        "        out = self.bn2(self.conv2(out))\n",
        "\n",
        "        x = self.skip(x)\n",
        "\n",
        "        out += x\n",
        "        out = F.relu(out)\n",
        "\n",
        "        out = self.pool(out)\n",
        "        return out\n",
        "\n",
        "class ResNet9(nn.Module):\n",
        "    def __init__(self, num_classes=10):\n",
        "        super(ResNet9, self).__init__()\n",
        "\n",
        "        # Initial convolution block\n",
        "        self.conv1 = nn.Conv2d(3, 64, kernel_size=3, stride=1, padding=1)\n",
        "        self.bn1 = nn.BatchNorm2d(64)\n",
        "        self.conv2 = nn.Conv2d(64, 128, kernel_size=3, stride=1, padding=1)\n",
        "        self.bn2 = nn.BatchNorm2d(128)\n",
        "        self.pool1 = nn.MaxPool2d(kernel_size=2, stride=2)\n",
        "\n",
        "        # First residual block\n",
        "        self.res1 = ResidualBlock(128, 128)\n",
        "\n",
        "        # Second residual block\n",
        "        self.conv3 = nn.Conv2d(128, 256, kernel_size=3, stride=1, padding=1)\n",
        "        self.bn3 = nn.BatchNorm2d(256)\n",
        "        self.conv4 = nn.Conv2d(256, 512, kernel_size=3, stride=1, padding=1)\n",
        "        self.bn4 = nn.BatchNorm2d(512)\n",
        "        self.pool2 = nn.MaxPool2d(kernel_size=2, stride=2)\n",
        "\n",
        "        # Third residual block\n",
        "        self.res2 = ResidualBlock(512, 512)\n",
        "\n",
        "        # Final layers\n",
        "        self.avgpool = nn.AdaptiveAvgPool2d((1, 1))\n",
        "        self.fc = nn.Linear(512, num_classes)\n",
        "\n",
        "    def forward(self, x):\n",
        "        # Initial convolutions\n",
        "        x = F.relu(self.bn1(self.conv1(x)))  # 32x32 -> 32x32\n",
        "        x = F.relu(self.bn2(self.conv2(x)))  # 32x32 -> 32x32\n",
        "        x = self.pool1(x)  # 32x32 -> 16x16\n",
        "\n",
        "        # First residual block\n",
        "        x = self.res1(x)  # 16x16 -> 8x8\n",
        "\n",
        "        # Second residual block\n",
        "        x = F.relu(self.bn3(self.conv3(x)))  # 8x8 -> 8x8\n",
        "        x = F.relu(self.bn4(self.conv4(x)))  # 8x8 -> 8x8\n",
        "        x = self.pool2(x)  # 8x8 -> 4x4\n",
        "\n",
        "        # Third residual block\n",
        "        x = self.res2(x)  # 4x4 -> 2x2\n",
        "\n",
        "        x = self.avgpool(x)  # 2x2 -> 1x1\n",
        "        x = torch.flatten(x, 1)\n",
        "        x = self.fc(x)\n",
        "\n",
        "        return x\n",
        "\n",
        "device = torch.device('cuda' if torch.cuda.is_available() else 'cpu')\n",
        "\n",
        "resnet9 = ResNet9().to(device)\n",
        "criterion = nn.CrossEntropyLoss()\n",
        "optimizer_resnet = optim.Adam(resnet9.parameters(), lr=0.001, betas=(0.9, 0.999))\n",
        "\n",
        "num_epochs = 20\n",
        "batch_size = 512\n",
        "\n",
        "train_loader = dataset.get_train_loader()\n",
        "valid_loader = dataset.get_valid_loader()\n",
        "test_loader = dataset.get_test_loader()"
      ],
      "metadata": {
        "id": "Jk5Usv436KRE"
      },
      "execution_count": 5,
      "outputs": []
    },
    {
      "cell_type": "code",
      "source": [
        "#@title Adversarial IGSM attack\n",
        "def igsm_attack(model, images, labels, epsilon=0.12, alpha=0.006, num_iterations=20):\n",
        "    images = images.clone().detach().to(device)\n",
        "    labels = labels.clone().detach().to(device)\n",
        "\n",
        "    adv_images = images.clone().detach().requires_grad_(True)\n",
        "\n",
        "    for i in range(num_iterations):\n",
        "        outputs = model(adv_images)\n",
        "        loss = F.cross_entropy(outputs, labels)\n",
        "\n",
        "        loss.backward()\n",
        "\n",
        "        with torch.no_grad():\n",
        "            adv_images = images + alpha * adv_images.grad.sign()\n",
        "            eta = torch.clamp(adv_images - images, min=-epsilon, max=epsilon)\n",
        "            adv_images = torch.clamp(images + eta, min=0, max=1)\n",
        "\n",
        "        adv_images = adv_images.detach().requires_grad_(True)\n",
        "\n",
        "    return adv_images.detach()\n",
        "\n",
        "def adversarial_train(model, train_loader, criterion, optimizer, device, num_epochs=10, replacement_ratio=0.75):\n",
        "    for epoch in range(num_epochs):\n",
        "        model.train()\n",
        "        running_loss = 0.0\n",
        "        for batch_idx, (data, target) in enumerate(train_loader):\n",
        "            data, target = data.to(device), target.to(device)\n",
        "\n",
        "            nb_adv = int(np.ceil(replacement_ratio * data.shape[0]))\n",
        "            adv_data = igsm_attack(model, data[:nb_adv], target[:nb_adv])\n",
        "\n",
        "            data[:nb_adv] = adv_data\n",
        "\n",
        "            optimizer.zero_grad()\n",
        "            output = model(data)\n",
        "            loss = criterion(output, target)\n",
        "            loss.backward()\n",
        "            optimizer.step()\n",
        "\n",
        "            running_loss += loss.item()\n",
        "\n",
        "        print(f\"Epoch [{epoch+1}/{num_epochs}] - Loss: {running_loss/len(train_loader):.4f}\")\n",
        "\n",
        "def evaluate(model, data_loader, attack=None):\n",
        "    model.eval()\n",
        "    correct = 0\n",
        "    total = 0\n",
        "\n",
        "    for data, target in data_loader:\n",
        "        data, target = data.to(device), target.to(device)\n",
        "\n",
        "\n",
        "        if attack:\n",
        "            data = attack(model, data, target)\n",
        "\n",
        "\n",
        "        with torch.no_grad():\n",
        "            output = model(data)\n",
        "            _, predicted = output.max(1)\n",
        "            total += target.size(0)\n",
        "            correct += predicted.eq(target).sum().item()\n",
        "\n",
        "    return 100. * correct / total"
      ],
      "metadata": {
        "id": "lOifi_nzF9Lv"
      },
      "execution_count": 6,
      "outputs": []
    },
    {
      "cell_type": "code",
      "source": [
        "#@title Results on original ResNet 9\n",
        "resnet9 = ResNet9().to(device)\n",
        "resnet9.load_state_dict(torch.load('/content/drive/MyDrive/resnet9_pretrained.pth'))\n",
        "\n",
        "benign_acc = evaluate(resnet9, test_loader)\n",
        "igsm_acc = evaluate(resnet9, test_loader, lambda m, x, y: igsm_attack(m, x, y))\n",
        "print(f\"No Defense - Benign Accuracy: {benign_acc:.2f}%, IGSM Attack Accuracy: {igsm_acc:.2f}%\")"
      ],
      "metadata": {
        "colab": {
          "base_uri": "https://localhost:8080/"
        },
        "id": "Uxgcc4gZKvm1",
        "outputId": "6ada70b4-fdf8-41ba-b57f-992afdd75dcc"
      },
      "execution_count": null,
      "outputs": [
        {
          "output_type": "stream",
          "name": "stderr",
          "text": [
            "<ipython-input-7-97cc0141c803>:2: FutureWarning: You are using `torch.load` with `weights_only=False` (the current default value), which uses the default pickle module implicitly. It is possible to construct malicious pickle data which will execute arbitrary code during unpickling (See https://github.com/pytorch/pytorch/blob/main/SECURITY.md#untrusted-models for more details). In a future release, the default value for `weights_only` will be flipped to `True`. This limits the functions that could be executed during unpickling. Arbitrary objects will no longer be allowed to be loaded via this mode unless they are explicitly allowlisted by the user via `torch.serialization.add_safe_globals`. We recommend you start setting `weights_only=True` for any use case where you don't have full control of the loaded file. Please open an issue on GitHub for any issues related to this experimental feature.\n",
            "  resnet9.load_state_dict(torch.load('/content/resnet9_pretrained.pth'))\n"
          ]
        },
        {
          "output_type": "stream",
          "name": "stdout",
          "text": [
            "No Defense - Benign Accuracy: 74.29%, IGSM Attack Accuracy: 32.61%\n"
          ]
        }
      ]
    },
    {
      "cell_type": "code",
      "source": [
        "#@title Training and results on Adversarial trained ResNet 9\n",
        "resnet9 = ResNet9().to(device)\n",
        "resnet9.load_state_dict(torch.load('/content/drive/MyDrive/resnet9_pretrained.pth'))\n",
        "\n",
        "# Adversarial training\n",
        "criterion = nn.CrossEntropyLoss()\n",
        "optimizer = optim.Adam(resnet9.parameters(), lr=0.001)\n",
        "adversarial_train(resnet9, train_loader, criterion, optimizer, device, num_epochs=10)\n",
        "\n",
        "torch.save(resnet9.state_dict(), '/content/drive/MyDrive/resnet9igsm_pretrained10.pth')\n",
        "\n",
        "benign_acc_adv = evaluate(resnet9, test_loader)\n",
        "igsm_acc_adv = evaluate(resnet9, test_loader, lambda m, x, y: igsm_attack(m, x, y))\n",
        "print(f\"After Adversarial Training - Benign Accuracy: {benign_acc_adv:.2f}%, IGSM Attack Accuracy: {igsm_acc_adv:.2f}%\")"
      ],
      "metadata": {
        "colab": {
          "base_uri": "https://localhost:8080/"
        },
        "id": "pLUfkyqlKsHv",
        "outputId": "b4e59802-d89d-4683-ec1e-097a72f254ae"
      },
      "execution_count": null,
      "outputs": [
        {
          "output_type": "stream",
          "name": "stderr",
          "text": [
            "<ipython-input-7-63484aa8ca66>:2: FutureWarning: You are using `torch.load` with `weights_only=False` (the current default value), which uses the default pickle module implicitly. It is possible to construct malicious pickle data which will execute arbitrary code during unpickling (See https://github.com/pytorch/pytorch/blob/main/SECURITY.md#untrusted-models for more details). In a future release, the default value for `weights_only` will be flipped to `True`. This limits the functions that could be executed during unpickling. Arbitrary objects will no longer be allowed to be loaded via this mode unless they are explicitly allowlisted by the user via `torch.serialization.add_safe_globals`. We recommend you start setting `weights_only=True` for any use case where you don't have full control of the loaded file. Please open an issue on GitHub for any issues related to this experimental feature.\n",
            "  resnet9.load_state_dict(torch.load('/content/drive/MyDrive/resnet9_pretrained.pth'))\n"
          ]
        },
        {
          "output_type": "stream",
          "name": "stdout",
          "text": [
            "Epoch [1/10] - Loss: 0.8403\n",
            "Epoch [2/10] - Loss: 0.6096\n",
            "Epoch [3/10] - Loss: 0.4669\n",
            "Epoch [4/10] - Loss: 0.3554\n",
            "Epoch [5/10] - Loss: 0.2635\n",
            "Epoch [6/10] - Loss: 0.2091\n",
            "Epoch [7/10] - Loss: 0.1751\n",
            "Epoch [8/10] - Loss: 0.1418\n",
            "Epoch [9/10] - Loss: 0.1227\n",
            "Epoch [10/10] - Loss: 0.1100\n",
            "After Adversarial Training - Benign Accuracy: 71.98%, IGSM Attack Accuracy: 54.17%\n"
          ]
        }
      ]
    },
    {
      "cell_type": "code",
      "source": [
        "#@title Qualitative analysis\n",
        "\n",
        "resnet9o = ResNet9().to(device)\n",
        "resnet9o.load_state_dict(torch.load('/content/drive/MyDrive/resnet9_pretrained.pth'))\n",
        "\n",
        "resnet9_attack = ResNet9().to(device)\n",
        "resnet9_attack.load_state_dict(torch.load('/content/drive/MyDrive/resnet9igsm_pretrained10.pth'))\n",
        "\n",
        "categories = ['airplane', 'automobile', 'bird', 'cat', 'deer', 'dog', 'frog', 'horse', 'ship', 'truck']\n",
        "\n",
        "def visualize_attack_comparison(model1, model2, data_loader, num_samples=5):\n",
        "    model1.eval()\n",
        "    model2.eval()\n",
        "\n",
        "    fig, axes = plt.subplots(2, num_samples, figsize=(20, 12))\n",
        "    sample_count = 0\n",
        "\n",
        "    while sample_count < num_samples:\n",
        "        images, labels = next(iter(data_loader))\n",
        "        batch_size = images.size(0)\n",
        "\n",
        "        idx = random.randint(0, batch_size - 1)\n",
        "\n",
        "        image = images[idx:idx+1].to(device)\n",
        "        label = labels[idx:idx+1].to(device)\n",
        "\n",
        "        adv_image = igsm_attack(model1, image, label)\n",
        "\n",
        "        # Original image\n",
        "        original_pred1 = model1(image).argmax().item()\n",
        "        original_pred2 = model2(image).argmax().item()\n",
        "\n",
        "        # Attacked image\n",
        "        adv_pred1 = model1(adv_image).argmax().item()\n",
        "        adv_pred2 = model2(adv_image).argmax().item()\n",
        "\n",
        "        # Check if there's a difference in predictions\n",
        "        if original_pred1 != adv_pred1 or original_pred2 != adv_pred2 or adv_pred1 != adv_pred2:\n",
        "\n",
        "            axes[0, sample_count].imshow(image.cpu().squeeze().permute(1, 2, 0))\n",
        "            axes[0, sample_count].axis('off')\n",
        "            axes[0, sample_count].set_title(f'Original\\nTrue: {categories[label.item()]}\\nPred1: {categories[original_pred1]}\\nPred2: {categories[original_pred2]}')\n",
        "\n",
        "            axes[1, sample_count].imshow(adv_image.cpu().squeeze().permute(1, 2, 0).detach())\n",
        "            axes[1, sample_count].axis('off')\n",
        "            axes[1, sample_count].set_title(f'IGSM Attack\\nTrue: {categories[label.item()]}\\nPred1: {categories[adv_pred1]}\\nPred2: {categories[adv_pred2]}')\n",
        "\n",
        "            sample_count += 1\n",
        "\n",
        "    plt.tight_layout()\n",
        "    plt.show()\n",
        "\n",
        "# Set random seed for reproducibility\n",
        "# random.seed(42)\n",
        "# torch.manual_seed(42)\n",
        "\n",
        "# Visualize IGSM attack images for both models\n",
        "print(\"IGSM Attack Images Comparison:\")\n",
        "visualize_attack_comparison(resnet9o, resnet9_attack, test_loader)"
      ],
      "metadata": {
        "id": "XPAeqZ3zWXiX",
        "colab": {
          "base_uri": "https://localhost:8080/",
          "height": 1000
        },
        "outputId": "989dfb89-3f13-4558-c0a7-d3d52b4129e0"
      },
      "execution_count": 11,
      "outputs": [
        {
          "output_type": "stream",
          "name": "stderr",
          "text": [
            "<ipython-input-11-6a1d9cd974b6>:4: FutureWarning: You are using `torch.load` with `weights_only=False` (the current default value), which uses the default pickle module implicitly. It is possible to construct malicious pickle data which will execute arbitrary code during unpickling (See https://github.com/pytorch/pytorch/blob/main/SECURITY.md#untrusted-models for more details). In a future release, the default value for `weights_only` will be flipped to `True`. This limits the functions that could be executed during unpickling. Arbitrary objects will no longer be allowed to be loaded via this mode unless they are explicitly allowlisted by the user via `torch.serialization.add_safe_globals`. We recommend you start setting `weights_only=True` for any use case where you don't have full control of the loaded file. Please open an issue on GitHub for any issues related to this experimental feature.\n",
            "  resnet9o.load_state_dict(torch.load('/content/drive/MyDrive/resnet9_pretrained.pth'))\n",
            "<ipython-input-11-6a1d9cd974b6>:7: FutureWarning: You are using `torch.load` with `weights_only=False` (the current default value), which uses the default pickle module implicitly. It is possible to construct malicious pickle data which will execute arbitrary code during unpickling (See https://github.com/pytorch/pytorch/blob/main/SECURITY.md#untrusted-models for more details). In a future release, the default value for `weights_only` will be flipped to `True`. This limits the functions that could be executed during unpickling. Arbitrary objects will no longer be allowed to be loaded via this mode unless they are explicitly allowlisted by the user via `torch.serialization.add_safe_globals`. We recommend you start setting `weights_only=True` for any use case where you don't have full control of the loaded file. Please open an issue on GitHub for any issues related to this experimental feature.\n",
            "  resnet9_attack.load_state_dict(torch.load('/content/drive/MyDrive/resnet9igsm_pretrained10.pth'))\n"
          ]
        },
        {
          "output_type": "stream",
          "name": "stdout",
          "text": [
            "IGSM Attack Images Comparison:\n"
          ]
        },
        {
          "output_type": "stream",
          "name": "stderr",
          "text": [
            "WARNING:matplotlib.image:Clipping input data to the valid range for imshow with RGB data ([0..1] for floats or [0..255] for integers).\n",
            "WARNING:matplotlib.image:Clipping input data to the valid range for imshow with RGB data ([0..1] for floats or [0..255] for integers).\n",
            "WARNING:matplotlib.image:Clipping input data to the valid range for imshow with RGB data ([0..1] for floats or [0..255] for integers).\n",
            "WARNING:matplotlib.image:Clipping input data to the valid range for imshow with RGB data ([0..1] for floats or [0..255] for integers).\n",
            "WARNING:matplotlib.image:Clipping input data to the valid range for imshow with RGB data ([0..1] for floats or [0..255] for integers).\n"
          ]
        },
        {
          "output_type": "display_data",
          "data": {
            "text/plain": [
              "<Figure size 2000x1200 with 10 Axes>"
            ],
            "image/png": "[encoded data removed]"
          },
          "metadata": {}
        }
      ]
    },
    {
      "cell_type": "code",
      "source": [],
      "metadata": {
        "id": "tMY34gyxP-S2"
      },
      "execution_count": null,
      "outputs": []
    }
  ]
}
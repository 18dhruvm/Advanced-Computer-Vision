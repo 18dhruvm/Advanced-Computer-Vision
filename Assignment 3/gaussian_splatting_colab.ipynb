{
  "cells": [
    {
      "cell_type": "code",
      "execution_count": null,
      "metadata": {
        "id": "VjYy0F2gZIPR",
        "outputId": "0e86f1c6-4b8a-43db-a60b-ddbfdfb640f8",
        "colab": {
          "base_uri": "https://localhost:8080/"
        }
      },
      "outputs": [
        {
          "output_type": "stream",
          "name": "stdout",
          "text": [
            "/content\n",
            "Cloning into 'gaussian-splatting'...\n",
            "remote: Enumerating objects: 603, done.\u001b[K\n",
            "remote: Total 603 (delta 0), reused 0 (delta 0), pack-reused 603 (from 1)\u001b[K\n",
            "Receiving objects: 100% (603/603), 2.09 MiB | 7.99 MiB/s, done.\n",
            "Resolving deltas: 100% (347/347), done.\n",
            "Submodule 'SIBR_viewers' (https://gitlab.inria.fr/sibr/sibr_core) registered for path 'SIBR_viewers'\n",
            "Submodule 'submodules/diff-gaussian-rasterization' (https://github.com/graphdeco-inria/diff-gaussian-rasterization) registered for path 'submodules/diff-gaussian-rasterization'\n",
            "Submodule 'submodules/simple-knn' (https://gitlab.inria.fr/bkerbl/simple-knn.git) registered for path 'submodules/simple-knn'\n",
            "Cloning into '/content/gaussian-splatting/SIBR_viewers'...\n",
            "warning: redirecting to https://gitlab.inria.fr/sibr/sibr_core.git/\n",
            "remote: Enumerating objects: 3263, done.        \n",
            "remote: Counting objects: 100% (317/317), done.        \n",
            "remote: Compressing objects: 100% (170/170), done.        \n",
            "remote: Total 3263 (delta 166), reused 271 (delta 147), pack-reused 2946 (from 1)        \n",
            "Receiving objects: 100% (3263/3263), 9.98 MiB | 24.73 MiB/s, done.\n",
            "Resolving deltas: 100% (2009/2009), done.\n",
            "Cloning into '/content/gaussian-splatting/submodules/diff-gaussian-rasterization'...\n",
            "remote: Enumerating objects: 263, done.        \n",
            "remote: Counting objects: 100% (41/41), done.        \n",
            "remote: Compressing objects: 100% (25/25), done.        \n",
            "remote: Total 263 (delta 23), reused 22 (delta 13), pack-reused 222 (from 1)        \n",
            "Receiving objects: 100% (263/263), 101.61 KiB | 4.42 MiB/s, done.\n",
            "Resolving deltas: 100% (162/162), done.\n",
            "Cloning into '/content/gaussian-splatting/submodules/simple-knn'...\n",
            "remote: Enumerating objects: 37, done.        \n",
            "remote: Counting objects: 100% (37/37), done.        \n",
            "remote: Compressing objects: 100% (34/34), done.        \n",
            "remote: Total 37 (delta 18), reused 0 (delta 0), pack-reused 0 (from 0)        \n",
            "Receiving objects: 100% (37/37), 9.41 KiB | 9.41 MiB/s, done.\n",
            "Resolving deltas: 100% (18/18), done.\n",
            "Submodule path 'SIBR_viewers': checked out '14199886ae3f42358092c16ada909c1e0b1cba20'\n",
            "Submodule path 'submodules/diff-gaussian-rasterization': checked out '8064f52ca233942bdec2d1a1451c026deedd320b'\n",
            "Submodule 'third_party/glm' (https://github.com/g-truc/glm.git) registered for path 'submodules/diff-gaussian-rasterization/third_party/glm'\n",
            "Cloning into '/content/gaussian-splatting/submodules/diff-gaussian-rasterization/third_party/glm'...\n",
            "remote: Enumerating objects: 59615, done.        \n",
            "remote: Counting objects: 100% (5/5), done.        \n",
            "remote: Compressing objects: 100% (4/4), done.        \n",
            "remote: Total 59615 (delta 0), reused 3 (delta 0), pack-reused 59610 (from 1)        \n",
            "Receiving objects: 100% (59615/59615), 71.19 MiB | 18.93 MiB/s, done.\n",
            "Resolving deltas: 100% (45206/45206), done.\n",
            "Submodule path 'submodules/diff-gaussian-rasterization/third_party/glm': checked out '5c46b9c07008ae65cb81ab79cd677ecc1934b903'\n",
            "Submodule path 'submodules/simple-knn': checked out '44f764299fa305faf6ec5ebd99939e0508331503'\n",
            "/content/gaussian-splatting\n",
            "  Preparing metadata (setup.py) ... \u001b[?25l\u001b[?25hdone\n",
            "  Building wheel for diff_gaussian_rasterization (setup.py) ... \u001b[?25l\u001b[?25hdone\n",
            "  Preparing metadata (setup.py) ... \u001b[?25l\u001b[?25hdone\n",
            "  Building wheel for simple_knn (setup.py) ... \u001b[?25l\u001b[?25hdone\n"
          ]
        }
      ],
      "source": [
        "%cd /content\n",
        "!git clone --recursive https://github.com/camenduru/gaussian-splatting\n",
        "!pip install -q plyfile\n",
        "\n",
        "%cd /content/gaussian-splatting\n",
        "!pip install -q /content/gaussian-splatting/submodules/diff-gaussian-rasterization\n",
        "!pip install -q /content/gaussian-splatting/submodules/simple-knn"
      ]
    },
    {
      "cell_type": "code",
      "source": [
        "from google.colab import drive\n",
        "drive.mount('/content/drive')"
      ],
      "metadata": {
        "colab": {
          "base_uri": "https://localhost:8080/"
        },
        "id": "YntvAjItC5pG",
        "outputId": "25ee1a5e-c3d8-43ef-cc98-27be7ff33dac"
      },
      "execution_count": null,
      "outputs": [
        {
          "output_type": "stream",
          "name": "stdout",
          "text": [
            "Mounted at /content/drive\n"
          ]
        }
      ]
    },
    {
      "cell_type": "code",
      "source": [
        "!python train.py -s '/content/drive/MyDrive/workspace_10' --eval"
      ],
      "metadata": {
        "id": "sjefQBj4DzwV",
        "colab": {
          "base_uri": "https://localhost:8080/"
        },
        "outputId": "ae8fb8d0-eb70-42bc-c099-0f6d8ff9b88b"
      },
      "execution_count": null,
      "outputs": [
        {
          "output_type": "stream",
          "name": "stdout",
          "text": [
            "2024-10-10 19:30:46.869539: E external/local_xla/xla/stream_executor/cuda/cuda_fft.cc:485] Unable to register cuFFT factory: Attempting to register factory for plugin cuFFT when one has already been registered\n",
            "2024-10-10 19:30:46.888986: E external/local_xla/xla/stream_executor/cuda/cuda_dnn.cc:8454] Unable to register cuDNN factory: Attempting to register factory for plugin cuDNN when one has already been registered\n",
            "2024-10-10 19:30:46.894894: E external/local_xla/xla/stream_executor/cuda/cuda_blas.cc:1452] Unable to register cuBLAS factory: Attempting to register factory for plugin cuBLAS when one has already been registered\n",
            "2024-10-10 19:30:46.909419: I tensorflow/core/platform/cpu_feature_guard.cc:210] This TensorFlow binary is optimized to use available CPU instructions in performance-critical operations.\n",
            "To enable the following instructions: AVX2 AVX512F FMA, in other operations, rebuild TensorFlow with the appropriate compiler flags.\n",
            "2024-10-10 19:30:47.967228: W tensorflow/compiler/tf2tensorrt/utils/py_utils.cc:38] TF-TRT Warning: Could not find TensorRT\n",
            "Optimizing \n",
            "Output folder: ./output/85ebcdd6-8 [10/10 19:30:49]\n",
            "Reading camera 10/10 [10/10 19:30:58]\n",
            "Loading Training Cameras [10/10 19:30:59]\n",
            "[ INFO ] Encountered quite large input images (>1.6K pixels width), rescaling to 1.6K.\n",
            " If this is not desired, please explicitly specify '--resolution/-r' as 1 [10/10 19:30:59]\n",
            "Loading Test Cameras [10/10 19:31:02]\n",
            "Number of points at initialisation :  2704 [10/10 19:31:02]\n",
            "Training progress:  23% 7000/30000 [13:09<50:49,  7.54it/s, Loss=0.0363343]\n",
            "[ITER 7000] Evaluating test: L1 0.10351844877004623 PSNR 16.141071319580078 [10/10 19:44:15]\n",
            "\n",
            "[ITER 7000] Evaluating train: L1 0.01897115670144558 PSNR 29.499419403076175 [10/10 19:44:28]\n",
            "\n",
            "[ITER 7000] Saving Gaussians [10/10 19:44:29]\n",
            "Training progress: 100% 30000/30000 [1:08:20<00:00,  7.32it/s, Loss=0.0222077]\n",
            "\n",
            "[ITER 30000] Evaluating test: L1 0.11658333241939545 PSNR 15.127238273620605 [10/10 20:39:25]\n",
            "\n",
            "[ITER 30000] Evaluating train: L1 0.011913031898438932 PSNR 33.45528717041016 [10/10 20:39:31]\n",
            "\n",
            "[ITER 30000] Saving Gaussians [10/10 20:39:31]\n",
            "\n",
            "Training complete. [10/10 20:39:40]\n"
          ]
        }
      ]
    },
    {
      "cell_type": "code",
      "source": [
        "!pip install torchmetrics"
      ],
      "metadata": {
        "colab": {
          "base_uri": "https://localhost:8080/"
        },
        "id": "RUDLEYqA6vP7",
        "outputId": "cbf69fa3-3c22-4fe1-b5c4-491c7d93e04e"
      },
      "execution_count": null,
      "outputs": [
        {
          "output_type": "stream",
          "name": "stdout",
          "text": [
            "Collecting torchmetrics\n",
            "  Downloading torchmetrics-1.4.3-py3-none-any.whl.metadata (19 kB)\n",
            "Requirement already satisfied: numpy>1.20.0 in /usr/local/lib/python3.10/dist-packages (from torchmetrics) (1.26.4)\n",
            "Requirement already satisfied: packaging>17.1 in /usr/local/lib/python3.10/dist-packages (from torchmetrics) (24.1)\n",
            "Requirement already satisfied: torch>=1.10.0 in /usr/local/lib/python3.10/dist-packages (from torchmetrics) (2.4.1+cu121)\n",
            "Collecting lightning-utilities>=0.8.0 (from torchmetrics)\n",
            "  Downloading lightning_utilities-0.11.7-py3-none-any.whl.metadata (5.2 kB)\n",
            "Requirement already satisfied: setuptools in /usr/local/lib/python3.10/dist-packages (from lightning-utilities>=0.8.0->torchmetrics) (71.0.4)\n",
            "Requirement already satisfied: typing-extensions in /usr/local/lib/python3.10/dist-packages (from lightning-utilities>=0.8.0->torchmetrics) (4.12.2)\n",
            "Requirement already satisfied: filelock in /usr/local/lib/python3.10/dist-packages (from torch>=1.10.0->torchmetrics) (3.16.1)\n",
            "Requirement already satisfied: sympy in /usr/local/lib/python3.10/dist-packages (from torch>=1.10.0->torchmetrics) (1.13.3)\n",
            "Requirement already satisfied: networkx in /usr/local/lib/python3.10/dist-packages (from torch>=1.10.0->torchmetrics) (3.3)\n",
            "Requirement already satisfied: jinja2 in /usr/local/lib/python3.10/dist-packages (from torch>=1.10.0->torchmetrics) (3.1.4)\n",
            "Requirement already satisfied: fsspec in /usr/local/lib/python3.10/dist-packages (from torch>=1.10.0->torchmetrics) (2024.6.1)\n",
            "Requirement already satisfied: MarkupSafe>=2.0 in /usr/local/lib/python3.10/dist-packages (from jinja2->torch>=1.10.0->torchmetrics) (2.1.5)\n",
            "Requirement already satisfied: mpmath<1.4,>=1.1.0 in /usr/local/lib/python3.10/dist-packages (from sympy->torch>=1.10.0->torchmetrics) (1.3.0)\n",
            "Downloading torchmetrics-1.4.3-py3-none-any.whl (869 kB)\n",
            "\u001b[2K   \u001b[90m━━━━━━━━━━━━━━━━━━━━━━━━━━━━━━━━━━━━━━━━\u001b[0m \u001b[32m869.5/869.5 kB\u001b[0m \u001b[31m28.4 MB/s\u001b[0m eta \u001b[36m0:00:00\u001b[0m\n",
            "\u001b[?25hDownloading lightning_utilities-0.11.7-py3-none-any.whl (26 kB)\n",
            "Installing collected packages: lightning-utilities, torchmetrics\n",
            "Successfully installed lightning-utilities-0.11.7 torchmetrics-1.4.3\n"
          ]
        }
      ]
    },
    {
      "cell_type": "code",
      "source": [
        "!python render.py -m /content/gaussian-splatting/output/85ebcdd6-8"
      ],
      "metadata": {
        "colab": {
          "base_uri": "https://localhost:8080/"
        },
        "id": "wOOAM2MQMZ7r",
        "outputId": "edee1fe5-c56c-4501-8006-22aa6e67baa7"
      },
      "execution_count": null,
      "outputs": [
        {
          "output_type": "stream",
          "name": "stdout",
          "text": [
            "Looking for config file in /content/gaussian-splatting/output/85ebcdd6-8/cfg_args\n",
            "Config file found: /content/gaussian-splatting/output/85ebcdd6-8/cfg_args\n",
            "Rendering /content/gaussian-splatting/output/85ebcdd6-8\n",
            "Loading trained model at iteration 30000 [10/10 20:56:46]\n",
            "\rReading camera 1/10\rReading camera 2/10\rReading camera 3/10\rReading camera 4/10\rReading camera 5/10\rReading camera 6/10\rReading camera 7/10\rReading camera 8/10\rReading camera 9/10\rReading camera 10/10 [10/10 20:56:46]\n",
            "Loading Training Cameras [10/10 20:56:46]\n",
            "[ INFO ] Encountered quite large input images (>1.6K pixels width), rescaling to 1.6K.\n",
            " If this is not desired, please explicitly specify '--resolution/-r' as 1 [10/10 20:56:46]\n",
            "Loading Test Cameras [10/10 20:56:48]\n",
            "Rendering progress: 100% 9/9 [00:10<00:00,  1.19s/it]\n",
            "Rendering progress: 100% 1/1 [00:01<00:00,  1.19s/it]\n"
          ]
        }
      ]
    },
    {
      "cell_type": "code",
      "source": [
        "!python metrics.py -m /content/gaussian-splatting/output/85ebcdd6-8/\n"
      ],
      "metadata": {
        "colab": {
          "base_uri": "https://localhost:8080/"
        },
        "id": "Mx4r9Zh76bIg",
        "outputId": "40695421-1dd8-4055-e40b-c94cf98a322c"
      },
      "execution_count": null,
      "outputs": [
        {
          "output_type": "stream",
          "name": "stdout",
          "text": [
            "\n",
            "Scene: /content/gaussian-splatting/output/85ebcdd6-8/\n",
            "Method: ours_30000\n",
            "Metric evaluation progress:   0% 0/1 [00:00<?, ?it/s]Downloading: \"https://download.pytorch.org/models/vgg16-397923af.pth\" to /root/.cache/torch/hub/checkpoints/vgg16-397923af.pth\n",
            "\n",
            "  0% 0.00/528M [00:00<?, ?B/s]\u001b[A\n",
            "  3% 15.8M/528M [00:00<00:03, 165MB/s]\u001b[A\n",
            "  7% 35.8M/528M [00:00<00:02, 191MB/s]\u001b[A\n",
            " 11% 55.8M/528M [00:00<00:02, 199MB/s]\u001b[A\n",
            " 14% 75.5M/528M [00:00<00:02, 202MB/s]\u001b[A\n",
            " 18% 95.5M/528M [00:00<00:02, 204MB/s]\u001b[A\n",
            " 22% 115M/528M [00:00<00:02, 180MB/s] \u001b[A\n",
            " 25% 133M/528M [00:00<00:02, 178MB/s]\u001b[A\n",
            " 29% 152M/528M [00:00<00:02, 186MB/s]\u001b[A\n",
            " 32% 170M/528M [00:00<00:02, 177MB/s]\u001b[A\n",
            " 36% 188M/528M [00:01<00:01, 179MB/s]\u001b[A\n",
            " 39% 206M/528M [00:01<00:01, 184MB/s]\u001b[A\n",
            " 43% 225M/528M [00:01<00:01, 187MB/s]\u001b[A\n",
            " 46% 244M/528M [00:01<00:01, 191MB/s]\u001b[A\n",
            " 50% 264M/528M [00:01<00:01, 194MB/s]\u001b[A\n",
            " 53% 282M/528M [00:01<00:01, 182MB/s]\u001b[A\n",
            " 57% 300M/528M [00:01<00:01, 172MB/s]\u001b[A\n",
            " 61% 319M/528M [00:01<00:01, 181MB/s]\u001b[A\n",
            " 64% 338M/528M [00:01<00:01, 185MB/s]\u001b[A\n",
            " 67% 356M/528M [00:02<00:01, 179MB/s]\u001b[A\n",
            " 71% 376M/528M [00:02<00:00, 187MB/s]\u001b[A\n",
            " 75% 394M/528M [00:02<00:00, 183MB/s]\u001b[A\n",
            " 78% 411M/528M [00:02<00:00, 179MB/s]\u001b[A\n",
            " 81% 428M/528M [00:03<00:02, 45.5MB/s]\u001b[A\n",
            " 84% 441M/528M [00:03<00:01, 48.0MB/s]\u001b[A\n",
            " 86% 452M/528M [00:05<00:04, 18.3MB/s]\u001b[A\n",
            " 88% 466M/528M [00:05<00:02, 24.6MB/s]\u001b[A\n",
            " 91% 480M/528M [00:05<00:01, 32.8MB/s]\u001b[A\n",
            " 94% 496M/528M [00:05<00:00, 44.4MB/s]\u001b[A\n",
            "100% 528M/528M [00:06<00:00, 90.6MB/s]\n",
            "Downloading: \"https://raw.githubusercontent.com/richzhang/PerceptualSimilarity/master/lpips/weights/v0.1/vgg.pth\" to /root/.cache/torch/hub/checkpoints/vgg.pth\n",
            "\n",
            "100% 7.12k/7.12k [00:00<00:00, 25.3MB/s]\n",
            "Metric evaluation progress: 100% 1/1 [00:09<00:00,  9.17s/it]\n",
            "  SSIM :    0.4283298\n",
            "  PSNR :   15.1196899\n",
            "  LPIPS:    0.4236086\n",
            "\n"
          ]
        }
      ]
    },
    {
      "cell_type": "code",
      "source": [],
      "metadata": {
        "id": "UCcciOn5ODqm"
      },
      "execution_count": null,
      "outputs": []
    }
  ],
  "metadata": {
    "accelerator": "GPU",
    "colab": {
      "gpuType": "T4",
      "provenance": []
    },
    "kernelspec": {
      "display_name": "Python 3",
      "name": "python3"
    },
    "language_info": {
      "name": "python"
    }
  },
  "nbformat": 4,
  "nbformat_minor": 0
}